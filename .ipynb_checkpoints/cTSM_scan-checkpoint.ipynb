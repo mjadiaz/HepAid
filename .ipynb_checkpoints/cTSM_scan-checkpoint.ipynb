{
 "cells": [
  {
   "cell_type": "code",
   "execution_count": 1,
   "metadata": {},
   "outputs": [],
   "source": [
    "import HepRead \n",
    "import HepTools "
   ]
  },
  {
   "cell_type": "code",
   "execution_count": 2,
   "metadata": {},
   "outputs": [
    {
     "ename": "TypeError",
     "evalue": "__init__() missing 1 required positional argument: 'work_dir'",
     "output_type": "error",
     "traceback": [
      "\u001b[0;31m---------------------------------------------------------------------------\u001b[0m",
      "\u001b[0;31mTypeError\u001b[0m                                 Traceback (most recent call last)",
      "\u001b[0;32m/tmp/ipykernel_15330/567990262.py\u001b[0m in \u001b[0;36m<module>\u001b[0;34m\u001b[0m\n\u001b[1;32m      4\u001b[0m \u001b[0;34m\u001b[0m\u001b[0m\n\u001b[1;32m      5\u001b[0m \u001b[0;34m\u001b[0m\u001b[0m\n\u001b[0;32m----> 6\u001b[0;31m \u001b[0mSPhenocTSM\u001b[0m \u001b[0;34m=\u001b[0m \u001b[0mHepTools\u001b[0m\u001b[0;34m.\u001b[0m\u001b[0mSpheno\u001b[0m\u001b[0;34m(\u001b[0m\u001b[0mspheno_dir\u001b[0m\u001b[0;34m,\u001b[0m \u001b[0mmodel\u001b[0m\u001b[0;34m=\u001b[0m\u001b[0mmodel\u001b[0m\u001b[0;34m)\u001b[0m\u001b[0;34m\u001b[0m\u001b[0;34m\u001b[0m\u001b[0m\n\u001b[0m\u001b[1;32m      7\u001b[0m \u001b[0mlhs\u001b[0m  \u001b[0;34m=\u001b[0m \u001b[0mHepRead\u001b[0m\u001b[0;34m.\u001b[0m\u001b[0mLesHouches\u001b[0m\u001b[0;34m(\u001b[0m\u001b[0minput_lhs\u001b[0m\u001b[0;34m)\u001b[0m\u001b[0;34m\u001b[0m\u001b[0;34m\u001b[0m\u001b[0m\n",
      "\u001b[0;31mTypeError\u001b[0m: __init__() missing 1 required positional argument: 'work_dir'"
     ]
    }
   ],
   "source": [
    "spheno_dir = '/Users/madiaz/Dropbox/obsidian/PhD/Projects/ReadSLHA/SPheno-3.3.8'\n",
    "model = 'cTSM'\n",
    "input_lhs = 'LesHouches.in.cTSM'\n",
    "\n",
    "\n",
    "SPhenocTSM = HepTools.Spheno(spheno_dir, model=model)\n",
    "lhs  = HepRead.LesHouches(input_lhs)"
   ]
  },
  {
   "cell_type": "code",
   "execution_count": 9,
   "metadata": {},
   "outputs": [
    {
     "name": "stdout",
     "output_type": "stream",
     "text": [
      "Blocks in LeHouches file:\n",
      "['MODSEL', 'SMINPUTS', 'MINPAR', 'SPHENOINPUT', 'DECAYOPTIONS', 'YXIN']\n"
     ]
    }
   ],
   "source": [
    "print('Blocks in LeHouches file:')\n",
    "print(lhs.block_list)"
   ]
  },
  {
   "cell_type": "code",
   "execution_count": 11,
   "metadata": {},
   "outputs": [
    {
     "name": "stdout",
     "output_type": "stream",
     "text": [
      "Block  MINPAR           # INPUT PARAMETERS\n",
      "1      -5.3812E-01         # LHInput    \n",
      "2      1.0000E-01          # LTInput    \n",
      "3      2.0000E-01          # LT2Input   \n",
      "4      1.8926E-01          # LTHInput   \n",
      "5      1.0343E+01          # KInput     \n",
      "6      2.2256E+00          # LHT2Input  \n",
      "10     3.0000000E+00       # vTInput    \n"
     ]
    }
   ],
   "source": []
  },
  {
   "cell_type": "code",
   "execution_count": null,
   "metadata": {},
   "outputs": [],
   "source": [
    "lhs.block('SPHENOINPUT').set(76,0)\n",
    "lhs.block('SPHENOINPUT').set(520,0)\n",
    "lhs.block('SPHENOINPUT').set(530,0)\n",
    "\n",
    "N=1\n",
    "for p in range(N):\n",
    "    print(f'Point: {p} \\n')\n",
    "    lhs.block('MINPAR').set(5, Scanner.rlog_float(1e-9,1))\n",
    "    lhs.block('MINPAR').set(10, Scanner.rlog_float(1e-9,1))\n",
    "    lhs.block('MINPAR').set(6, Scanner.runiform_float(-0.5,0))\n",
    "    lhs.new_file(f'LesHouches.in.cTSM_{p}','test_scan_1/spheno_in')\n",
    "\n",
    "    SPhenocTSM.run(f'test_scan_1/spheno_in/LesHouches.in.cTSM_{p}',f'test_scan_1/spheno_out/LesHouches.in.cTSM_{p}')"
   ]
  }
 ],
 "metadata": {
  "interpreter": {
   "hash": "62e223c1476898eed7b2f6b1f1762961ca5226ee60a590d6a9f97876055d58be"
  },
  "kernelspec": {
   "display_name": "Python 3 (ipykernel)",
   "language": "python",
   "name": "python3"
  },
  "language_info": {
   "codemirror_mode": {
    "name": "ipython",
    "version": 3
   },
   "file_extension": ".py",
   "mimetype": "text/x-python",
   "name": "python",
   "nbconvert_exporter": "python",
   "pygments_lexer": "ipython3",
   "version": "3.9.6"
  }
 },
 "nbformat": 4,
 "nbformat_minor": 2
}
