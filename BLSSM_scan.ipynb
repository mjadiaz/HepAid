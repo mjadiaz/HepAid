{
 "cells": [
  {
   "cell_type": "code",
   "execution_count": 1,
   "source": [
    "import HepRead\n",
    "import HepTools\n",
    "\n",
    "\n",
    "spheno_dir = '/Users/madiaz/Dropbox/obsidian/PhD/Projects/ReadSLHA/SPheno-3.3.8'\n",
    "model = 'BLSSM'\n",
    "input_lhs = '../LesHouches.in.blssm'\n",
    "\n",
    "\n",
    "SPhenoBLSSM = HepTools.Spheno(spheno_dir, model=model)\n",
    "lhs  = HepRead.LesHouches(input_lhs)\n"
   ],
   "outputs": [
    {
     "output_type": "stream",
     "name": "stdout",
     "text": [
      "BLSSM model activated.\n"
     ]
    }
   ],
   "metadata": {}
  },
  {
   "cell_type": "code",
   "execution_count": 2,
   "source": [
    "lhs.block('EXTPAR').show()\n"
   ],
   "outputs": [
    {
     "output_type": "stream",
     "name": "stdout",
     "text": [
      "Block EXTPAR   # INPUT PARAMETERS\n",
      "1      0.000000E+00        # gBLinput   \n",
      "2      0.000000E+00        # g1BLinput  \n",
      "3      2.5000000E+03       # MZp        \n",
      "10     1.1500000E+00       # TBetaP     \n",
      "11     0.000000E+00        # MuInput    \n",
      "12     0.000000E+00        # MuPInput   \n",
      "13     0.000000E+00        # BMuInput   \n",
      "14     0.000000E+00        # BMuPInput  \n"
     ]
    }
   ],
   "metadata": {}
  },
  {
   "cell_type": "code",
   "execution_count": null,
   "source": [],
   "outputs": [],
   "metadata": {}
  },
  {
   "cell_type": "code",
   "execution_count": null,
   "source": [],
   "outputs": [],
   "metadata": {}
  }
 ],
 "metadata": {
  "orig_nbformat": 4,
  "language_info": {
   "name": "python",
   "version": "3.9.4",
   "mimetype": "text/x-python",
   "codemirror_mode": {
    "name": "ipython",
    "version": 3
   },
   "pygments_lexer": "ipython3",
   "nbconvert_exporter": "python",
   "file_extension": ".py"
  },
  "kernelspec": {
   "name": "python3",
   "display_name": "Python 3.9.4 64-bit ('heptools': conda)"
  },
  "interpreter": {
   "hash": "62e223c1476898eed7b2f6b1f1762961ca5226ee60a590d6a9f97876055d58be"
  }
 },
 "nbformat": 4,
 "nbformat_minor": 2
}