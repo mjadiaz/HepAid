{
 "cells": [
  {
   "cell_type": "code",
   "execution_count": null,
   "source": [
    "import HepRead\n",
    "import HepTools\n",
    "\n",
    "\n",
    "spheno_dir = '/scratch/mjad1g20/HEP/SPHENO/SPheno-3.3.8'\n",
    "model = 'BLSSM'\n",
    "input_lhs = spheno_dir + '/LesHouches.in.BLSSM_low'\n",
    "\n",
    "\n",
    "SPhenoBLSSM = HepTools.Spheno(spheno_dir, model=model)\n",
    "lhs  = HepRead.LesHouches(input_lhs)\n"
   ],
   "outputs": [],
   "metadata": {}
  },
  {
   "cell_type": "code",
   "execution_count": null,
   "source": [],
   "outputs": [],
   "metadata": {}
  }
 ],
 "metadata": {
  "orig_nbformat": 4,
  "language_info": {
   "name": "python",
   "version": "3.9.4"
  },
  "kernelspec": {
   "name": "python3",
   "display_name": "Python 3.9.4 64-bit ('heptools': conda)"
  },
  "interpreter": {
   "hash": "62e223c1476898eed7b2f6b1f1762961ca5226ee60a590d6a9f97876055d58be"
  }
 },
 "nbformat": 4,
 "nbformat_minor": 2
}