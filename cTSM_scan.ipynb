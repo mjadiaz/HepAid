{
 "cells": [
  {
   "cell_type": "code",
   "execution_count": 5,
   "source": [
    "import HepRead \n",
    "import HepTools "
   ],
   "outputs": [],
   "metadata": {}
  },
  {
   "cell_type": "code",
   "execution_count": 13,
   "source": [
    "spheno_dir = '/Users/madiaz/Dropbox/obsidian/PhD/Projects/ReadSLHA/SPheno-3.3.8'\n",
    "model = 'cTSM'\n",
    "input_lhs = 'LesHouches.in.cTSM'\n",
    "\n",
    "\n",
    "SPhenocTSM = HepTools.Spheno(spheno_dir, model=model)\n",
    "lhs  = HepRead.LesHouches(input_lhs)"
   ],
   "outputs": [
    {
     "output_type": "stream",
     "name": "stdout",
     "text": [
      "cTSM model activated.\n"
     ]
    }
   ],
   "metadata": {}
  },
  {
   "cell_type": "code",
   "execution_count": 9,
   "source": [
    "print('Blocks in LeHouches file:')\n",
    "print(lhs.block_list)"
   ],
   "outputs": [
    {
     "output_type": "stream",
     "name": "stdout",
     "text": [
      "Blocks in LeHouches file:\n",
      "['MODSEL', 'SMINPUTS', 'MINPAR', 'SPHENOINPUT', 'DECAYOPTIONS', 'YXIN']\n"
     ]
    }
   ],
   "metadata": {}
  },
  {
   "cell_type": "code",
   "execution_count": 11,
   "source": [
    "lhs.block('MINPAR').show()"
   ],
   "outputs": [
    {
     "output_type": "stream",
     "name": "stdout",
     "text": [
      "Block  MINPAR           # INPUT PARAMETERS\n",
      "1      -5.3812E-01         # LHInput    \n",
      "2      1.0000E-01          # LTInput    \n",
      "3      2.0000E-01          # LT2Input   \n",
      "4      1.8926E-01          # LTHInput   \n",
      "5      1.0343E+01          # KInput     \n",
      "6      2.2256E+00          # LHT2Input  \n",
      "10     3.0000000E+00       # vTInput    \n"
     ]
    }
   ],
   "metadata": {}
  },
  {
   "cell_type": "code",
   "execution_count": null,
   "source": [
    "lhs.block('SPHENOINPUT').set(76,0)\n",
    "lhs.block('SPHENOINPUT').set(520,0)\n",
    "lhs.block('SPHENOINPUT').set(530,0)\n",
    "\n",
    "N=1\n",
    "for p in range(N):\n",
    "    print(f'Point: {p} \\n')\n",
    "    lhs.block('MINPAR').set(5, Scanner.rlog_float(1e-9,1))\n",
    "    lhs.block('MINPAR').set(10, Scanner.rlog_float(1e-9,1))\n",
    "    lhs.block('MINPAR').set(6, Scanner.runiform_float(-0.5,0))\n",
    "    lhs.new_file(f'LesHouches.in.cTSM_{p}','test_scan_1/spheno_in')\n",
    "\n",
    "    SPhenocTSM.run(f'test_scan_1/spheno_in/LesHouches.in.cTSM_{p}',f'test_scan_1/spheno_out/LesHouches.in.cTSM_{p}')"
   ],
   "outputs": [],
   "metadata": {}
  }
 ],
 "metadata": {
  "orig_nbformat": 4,
  "language_info": {
   "name": "python",
   "version": "3.9.4",
   "mimetype": "text/x-python",
   "codemirror_mode": {
    "name": "ipython",
    "version": 3
   },
   "pygments_lexer": "ipython3",
   "nbconvert_exporter": "python",
   "file_extension": ".py"
  },
  "kernelspec": {
   "name": "python3",
   "display_name": "Python 3.9.4 64-bit ('heptools': conda)"
  },
  "interpreter": {
   "hash": "62e223c1476898eed7b2f6b1f1762961ca5226ee60a590d6a9f97876055d58be"
  }
 },
 "nbformat": 4,
 "nbformat_minor": 2
}